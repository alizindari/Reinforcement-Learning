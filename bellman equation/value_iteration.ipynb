{
 "cells": [
  {
   "cell_type": "code",
   "execution_count": 1,
   "id": "foster-charles",
   "metadata": {},
   "outputs": [],
   "source": [
    "import gym\n",
    "import numpy as np\n",
    "import pdb\n",
    "import math\n",
    "from Environment import Environment"
   ]
  },
  {
   "cell_type": "code",
   "execution_count": 2,
   "id": "direct-banana",
   "metadata": {},
   "outputs": [],
   "source": [
    "env = Environment('4x4')"
   ]
  },
  {
   "cell_type": "code",
   "execution_count": 6,
   "id": "fourth-medicaid",
   "metadata": {},
   "outputs": [],
   "source": [
    "def value_iteration(env,value_matrix,gamma):\n",
    "    \n",
    "    copy_mat = value_matrix.copy()\n",
    "    for i in range(4):\n",
    "        for j in range(4):\n",
    "            env.setPosition(i,j)\n",
    "            max_value = -math.inf\n",
    "            for ac in env.actions:\n",
    "                if env.getState() == 'g':\n",
    "                    continue\n",
    "                row,col,reward,flag = env.step(ac)\n",
    "                value = np.round(reward + gamma*copy_mat[row,col],3)\n",
    "                if value > max_value:\n",
    "                    max_value = value\n",
    "                env.setPosition(i,j)\n",
    "            if env.getState() == 'g':\n",
    "                continue                \n",
    "            value_matrix[i,j] = max_value\n",
    "                                \n",
    "    return value_matrix"
   ]
  },
  {
   "cell_type": "code",
   "execution_count": 7,
   "id": "incident-friendship",
   "metadata": {},
   "outputs": [],
   "source": [
    "epochs = 50\n",
    "\n",
    "matrix = np.zeros([4,4])\n",
    "list_of_values = []\n",
    "list_of_values.append(matrix.copy())\n",
    "\n",
    "\n",
    "env.reset()\n",
    "for eps in range(epochs):\n",
    "    matrix = value_iteration(env,matrix,0.9)\n",
    "    list_of_values.append(matrix.copy())\n"
   ]
  },
  {
   "cell_type": "code",
   "execution_count": 11,
   "id": "delayed-malawi",
   "metadata": {},
   "outputs": [
    {
     "data": {
      "text/plain": [
       "array([[-4.095, -3.439, -2.71 , -1.9  ],\n",
       "       [-3.439, -2.71 , -1.9  , -1.   ],\n",
       "       [-2.71 , -1.9  , -1.   ,  0.   ],\n",
       "       [-1.9  , -1.   ,  0.   ,  0.   ]])"
      ]
     },
     "execution_count": 11,
     "metadata": {},
     "output_type": "execute_result"
    }
   ],
   "source": [
    "list_of_values[7]"
   ]
  },
  {
   "cell_type": "code",
   "execution_count": null,
   "id": "sharp-buyer",
   "metadata": {},
   "outputs": [],
   "source": []
  }
 ],
 "metadata": {
  "kernelspec": {
   "display_name": "Python 3",
   "language": "python",
   "name": "python3"
  },
  "language_info": {
   "codemirror_mode": {
    "name": "ipython",
    "version": 3
   },
   "file_extension": ".py",
   "mimetype": "text/x-python",
   "name": "python",
   "nbconvert_exporter": "python",
   "pygments_lexer": "ipython3",
   "version": "3.7.3"
  }
 },
 "nbformat": 4,
 "nbformat_minor": 5
}
