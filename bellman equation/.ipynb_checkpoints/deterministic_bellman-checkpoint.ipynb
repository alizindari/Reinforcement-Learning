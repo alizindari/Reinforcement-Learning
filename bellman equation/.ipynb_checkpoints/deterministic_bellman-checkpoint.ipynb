{
 "cells": [
  {
   "cell_type": "code",
   "execution_count": 45,
   "id": "foster-charles",
   "metadata": {},
   "outputs": [],
   "source": [
    "import gym\n",
    "import numpy as np\n",
    "import pdb\n",
    "import math\n",
    "from Environment import Environment"
   ]
  },
  {
   "cell_type": "code",
   "execution_count": 46,
   "id": "direct-banana",
   "metadata": {},
   "outputs": [],
   "source": [
    "env = Environment('4x4')"
   ]
  },
  {
   "cell_type": "code",
   "execution_count": 53,
   "id": "considered-companion",
   "metadata": {},
   "outputs": [],
   "source": [
    "def updateValues(env,value_matrix,gamma):\n",
    "    \n",
    "    copy_mat = value_matrix.copy()\n",
    "    for i in range(4):\n",
    "        for j in range(4):\n",
    "            env.setPosition(i,j)\n",
    "            for ac in env.actions:\n",
    "                if env.getState() == 'g':\n",
    "                    continue\n",
    "                row,col,reward,flag = env.step(ac)\n",
    "\n",
    "                value_matrix[i,j] += np.round((1/4)*(reward + gamma*copy_mat[row,col]),3)\n",
    "                env.setPosition(i,j)                \n",
    "    return value_matrix"
   ]
  },
  {
   "cell_type": "code",
   "execution_count": 54,
   "id": "incident-friendship",
   "metadata": {},
   "outputs": [],
   "source": [
    "epochs = 50\n",
    "\n",
    "matrix = np.zeros([4,4])\n",
    "list_of_values = []\n",
    "list_of_values.append(matrix.copy())\n",
    "\n",
    "\n",
    "env.reset()\n",
    "for eps in range(epochs):\n",
    "    matrix = updateValues(env,matrix,0.95)\n",
    "    list_of_values.append(matrix.copy())\n"
   ]
  },
  {
   "cell_type": "code",
   "execution_count": 55,
   "id": "delayed-malawi",
   "metadata": {},
   "outputs": [
    {
     "data": {
      "text/plain": [
       "array([[-14.176, -14.176, -14.162, -14.091],\n",
       "       [-14.176, -14.156, -13.952, -13.365],\n",
       "       [-14.162, -13.952, -12.716,  -9.688],\n",
       "       [-14.091, -13.365,  -9.688,   0.   ]])"
      ]
     },
     "execution_count": 55,
     "metadata": {},
     "output_type": "execute_result"
    }
   ],
   "source": [
    "list_of_values[4]"
   ]
  },
  {
   "cell_type": "code",
   "execution_count": null,
   "id": "covered-lounge",
   "metadata": {},
   "outputs": [],
   "source": []
  }
 ],
 "metadata": {
  "kernelspec": {
   "display_name": "Python 3",
   "language": "python",
   "name": "python3"
  },
  "language_info": {
   "codemirror_mode": {
    "name": "ipython",
    "version": 3
   },
   "file_extension": ".py",
   "mimetype": "text/x-python",
   "name": "python",
   "nbconvert_exporter": "python",
   "pygments_lexer": "ipython3",
   "version": "3.7.3"
  }
 },
 "nbformat": 4,
 "nbformat_minor": 5
}
