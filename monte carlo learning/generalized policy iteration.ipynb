{
 "cells": [
  {
   "cell_type": "code",
   "execution_count": 1,
   "id": "immune-ballet",
   "metadata": {},
   "outputs": [],
   "source": [
    "import sys\n",
    "import gym\n",
    "import numpy as np\n",
    "from collections import defaultdict\n",
    "import pdb\n",
    "import matplotlib.pyplot as plt\n",
    "from Environment import *"
   ]
  },
  {
   "cell_type": "code",
   "execution_count": 2,
   "id": "impressive-bowling",
   "metadata": {},
   "outputs": [],
   "source": [
    "Map  = np.array([['s','h','h','f','f','f','f'],\n",
    "                 ['f','h','h','f','f','h','f'],\n",
    "                 ['f','h','h','f','f','f','h'],\n",
    "                 ['f','h','f','f','f','h','f'],\n",
    "                 ['f','h','h','f','h','f','g'],\n",
    "                 ['f','h','h','h','h','h','f'],\n",
    "                 ['f','f','f','f','f','f','f']])\n",
    "\n",
    "env = Environment(Map)"
   ]
  },
  {
   "cell_type": "code",
   "execution_count": 3,
   "id": "turned-vietnamese",
   "metadata": {},
   "outputs": [
    {
     "name": "stdout",
     "output_type": "stream",
     "text": [
      "[['l' 'u' 'r' 'd' 'l' 'r' 'd']\n",
      " ['r' 'r' 'u' 'u' 'u' 'u' 'u']\n",
      " ['l' 'u' 'l' 'u' 'r' 'r' 'u']\n",
      " ['u' 'l' 'd' 'd' 'u' 'd' 'd']\n",
      " ['u' 'd' 'd' 'u' 'd' 'r' 'u']\n",
      " ['r' 'r' 'd' 'u' 'd' 'd' 'u']\n",
      " ['d' 'l' 'r' 'l' 'u' 'l' 'd']]\n"
     ]
    }
   ],
   "source": [
    "policy = np.empty([Map.shape[0],Map.shape[1]],dtype=object)\n",
    "possible_actions = ['l','r','d','u']\n",
    "for i in range(Map.shape[0]):\n",
    "    for j in range(Map.shape[1]):\n",
    "        policy[i,j] = possible_actions[np.random.randint(0,4)]\n",
    "        \n",
    "print(policy)"
   ]
  },
  {
   "cell_type": "code",
   "execution_count": 4,
   "id": "geological-smoke",
   "metadata": {},
   "outputs": [],
   "source": [
    "action_to_num = {\n",
    "    'u':0,\n",
    "    'd':1,\n",
    "    'r':2,\n",
    "    'l':3\n",
    "}\n",
    "\n",
    "num_to_action = {\n",
    "    '0':'u',\n",
    "    '1':'d',\n",
    "    '2':'r',\n",
    "    '3':'l'\n",
    "}"
   ]
  },
  {
   "cell_type": "code",
   "execution_count": 5,
   "id": "conventional-hudson",
   "metadata": {},
   "outputs": [],
   "source": [
    "def generateEpisode(env,policy,max_step):\n",
    "    state = env.reset()\n",
    "#     print(state)\n",
    "    episode = []\n",
    "    step = 0\n",
    "    while True:\n",
    "        if np.random.rand() < 0.85:\n",
    "            action = policy[env.current_position[0],env.current_position[1]]\n",
    "        else:\n",
    "            action = num_to_action[str(np.random.randint(0,4))]\n",
    "        new_state,reward,flag = env.step(action)\n",
    "        \n",
    "#         print(action,new_state,reward)\n",
    "        episode.append((state,action,reward))\n",
    "        state = new_state\n",
    "        if reward == 10 or step == max_step:\n",
    "            break\n",
    "        step += 1\n",
    "    return episode"
   ]
  },
  {
   "cell_type": "code",
   "execution_count": 7,
   "id": "danish-poster",
   "metadata": {},
   "outputs": [],
   "source": [
    "def qEstimation(env,policy,num_episodes, gamma=0.9):\n",
    "    \n",
    "    G_value = defaultdict(lambda: np.zeros(4))\n",
    "    number_of_visit = defaultdict(lambda: np.zeros(4))\n",
    "    Q_value = defaultdict(lambda: np.zeros(4))\n",
    "    for i_episode in range(1, num_episodes+1):\n",
    "        episode = generateEpisode(env,policy,200)\n",
    "        states,actions, rewards = zip(*episode)\n",
    "        discounts = np.array([gamma**i for i in range(len(rewards)+1)])\n",
    "\n",
    "        for i, state in enumerate(states):\n",
    "            G_value[state][action_to_num[actions[i]]] += sum(rewards[i:]*discounts[:-(1+i)])\n",
    "            number_of_visit[state][action_to_num[actions[i]]] += 1.0\n",
    "            Q_value[state][action_to_num[actions[i]]] = G_value[state][action_to_num[actions[i]]] / number_of_visit[state][action_to_num[actions[i]]]\n",
    "            policy[state[0],state[1]] = num_to_action[str(np.argmax(Q_value[state]))]\n",
    "            \n",
    "    return Q_value"
   ]
  },
  {
   "cell_type": "code",
   "execution_count": 12,
   "id": "faced-specification",
   "metadata": {},
   "outputs": [],
   "source": [
    "q = qEstimation(env,policy,20000)"
   ]
  },
  {
   "cell_type": "code",
   "execution_count": 13,
   "id": "quantitative-attention",
   "metadata": {},
   "outputs": [],
   "source": [
    "def drawTrajectory(heat_map,q):\n",
    "    traj = heat_map.copy()\n",
    "    state = [0,0]\n",
    "    while True:\n",
    "        \n",
    "        action = np.argmax(q[tuple(state)])\n",
    "        if action == 0:\n",
    "            state[0] -= 1\n",
    "            if (heat_map[state[0],state[1],:] == [0,255,0]).sum() == 3:\n",
    "                return traj.astype(np.uint8)\n",
    "            traj[state[0],state[1],:] = [0,0,255]\n",
    "            \n",
    "        elif action == 1:\n",
    "            state[0] += 1\n",
    "            if (heat_map[state[0],state[1],:] == [0,255,0]).sum() == 3:\n",
    "                return traj.astype(np.uint8)\n",
    "            traj[state[0],state[1],:] = [0,0,255]\n",
    "            \n",
    "        elif action == 2:\n",
    "            state[1] += 1\n",
    "            if (heat_map[state[0],state[1],:] == [0,255,0]).sum() == 3:\n",
    "                return traj.astype(np.uint8)\n",
    "            traj[state[0],state[1],:] = [0,0,255]\n",
    "            \n",
    "        elif action == 3:\n",
    "            state[1] -= 1\n",
    "            if (heat_map[state[0],state[1],:] == [0,255,0]).sum() == 3:\n",
    "                return traj.astype(np.uint8)\n",
    "            traj[state[0],state[1],:] = [0,0,255]\n",
    "\n",
    "        \n",
    "    "
   ]
  },
  {
   "cell_type": "code",
   "execution_count": 14,
   "id": "composite-trustee",
   "metadata": {},
   "outputs": [],
   "source": [
    "heat,reward = env.mapToHeatMap()\n",
    "traj_map = drawTrajectory(heat.copy(),q)"
   ]
  },
  {
   "cell_type": "code",
   "execution_count": 15,
   "id": "equivalent-dodge",
   "metadata": {},
   "outputs": [
    {
     "data": {
      "image/png": "[encoded data removed]",
      "text/plain": [
       "<Figure size 432x288 with 1 Axes>"
      ]
     },
     "metadata": {
      "needs_background": "light"
     },
     "output_type": "display_data"
    }
   ],
   "source": [
    "fig, ax = plt.subplots()\n",
    "ax.grid(False)\n",
    "im = ax.imshow(traj_map,vmin=0,vmax=255)"
   ]
  },
  {
   "cell_type": "code",
   "execution_count": null,
   "id": "respective-throat",
   "metadata": {},
   "outputs": [],
   "source": []
  }
 ],
 "metadata": {
  "kernelspec": {
   "display_name": "Python 3",
   "language": "python",
   "name": "python3"
  },
  "language_info": {
   "codemirror_mode": {
    "name": "ipython",
    "version": 3
   },
   "file_extension": ".py",
   "mimetype": "text/x-python",
   "name": "python",
   "nbconvert_exporter": "python",
   "pygments_lexer": "ipython3",
   "version": "3.7.3"
  }
 },
 "nbformat": 4,
 "nbformat_minor": 5
}
