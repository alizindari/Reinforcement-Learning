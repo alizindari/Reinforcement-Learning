{
 "cells": [
  {
   "cell_type": "code",
   "execution_count": 1,
   "id": "immune-ballet",
   "metadata": {},
   "outputs": [],
   "source": [
    "import sys\n",
    "import gym\n",
    "import numpy as np\n",
    "from collections import defaultdict\n",
    "import pdb\n",
    "# from Environment import *"
   ]
  },
  {
   "cell_type": "code",
   "execution_count": 19,
   "id": "particular-prerequisite",
   "metadata": {},
   "outputs": [],
   "source": [
    "import numpy as np\n",
    "\n",
    "class Environment:\n",
    "    \n",
    "    def __init__(self,Map,random_start=True):\n",
    "        \n",
    "        self.MAPS ={\n",
    "               '4x4':np.array([['s','f','f','h'],\n",
    "                               ['h','h','f','h'],\n",
    "                               ['h','f','f','h'],\n",
    "                               ['h','f','f','g']])\n",
    "        }\n",
    "        \n",
    "        self.NA = 4\n",
    "        self.rand_start = random_start\n",
    "        self.selected_map = self.MAPS[Map]\n",
    "        self.start_position = (0,0)\n",
    "        self.goal_position  = [3,3]\n",
    "        self.current_position = [0,0]\n",
    "        self.actions = ['r','l','d','u']\n",
    "        \n",
    "    def reset(self):\n",
    "        if self.rand_start == False:\n",
    "            self.current_position = [0,0]\n",
    "            return tuple(self.current_position.copy())\n",
    "        else:\n",
    "            self.current_position = [np.random.randint(0,4),np.random.randint(0,4)]\n",
    "            return tuple(self.current_position.copy())\n",
    "    \n",
    "    def randomReset(self):\n",
    "        self.current_position[0] = np.random.randint(0,4)\n",
    "        self.current_position[1] = np.random.randint(0,4)\n",
    "        return self.current_position.copy()\n",
    "        \n",
    "    def render(self):\n",
    "        print(self.selected_map)\n",
    "        \n",
    "    def step(self,action):\n",
    "        flag = False\n",
    "        if action == 'u' and self.current_position[0] != 0:\n",
    "            self.current_position[0] -= 1\n",
    "            flag = True\n",
    "        \n",
    "        if action == 'd' and self.current_position[0] != self.selected_map.shape[0]-1:\n",
    "            self.current_position[0] += 1\n",
    "            flag = True\n",
    "            \n",
    "        if action == 'r' and self.current_position[1] != self.selected_map.shape[0]-1:\n",
    "            self.current_position[1] += 1\n",
    "            flag = True\n",
    "            \n",
    "        if action == 'l' and self.current_position[1] != 0:\n",
    "            self.current_position[1] -= 1\n",
    "            flag = True\n",
    "            \n",
    "        if self.getState() == 'g':\n",
    "            return (self.current_position[0],self.current_position[1]),10,flag\n",
    "        elif self.getState() == 'h':\n",
    "            return (self.current_position[0],self.current_position[1]),-5,flag\n",
    "        elif self.getState() == 'f' or self.getState() == 's':\n",
    "            return (self.current_position[0],self.current_position[1]),0,flag\n",
    "            \n",
    "    def setPosition(self,x,y):\n",
    "        self.current_position[0] = x\n",
    "        self.current_position[1] = y\n",
    "        \n",
    "        \n",
    "    def getState(self):\n",
    "        return self.selected_map[self.current_position[0],self.current_position[1]].copy()"
   ]
  },
  {
   "cell_type": "code",
   "execution_count": 20,
   "id": "impressive-bowling",
   "metadata": {},
   "outputs": [],
   "source": [
    "env = Environment('4x4')"
   ]
  },
  {
   "cell_type": "code",
   "execution_count": 21,
   "id": "turned-vietnamese",
   "metadata": {},
   "outputs": [
    {
     "name": "stdout",
     "output_type": "stream",
     "text": [
      "[['r' 'd' 'u' 'l']\n",
      " ['l' 'r' 'd' 'u']\n",
      " ['r' 'l' 'l' 'l']\n",
      " ['u' 'r' 'l' 'r']]\n"
     ]
    }
   ],
   "source": [
    "policy = np.empty([4,4],dtype=object)\n",
    "possible_actions = ['l','r','d','u']\n",
    "for i in range(4):\n",
    "    for j in range(4):\n",
    "        policy[i,j] = possible_actions[np.random.randint(0,4)]\n",
    "        \n",
    "print(policy)"
   ]
  },
  {
   "cell_type": "code",
   "execution_count": 22,
   "id": "geological-smoke",
   "metadata": {},
   "outputs": [],
   "source": [
    "action_to_num = {\n",
    "    'u':0,\n",
    "    'd':1,\n",
    "    'r':2,\n",
    "    'l':3\n",
    "}\n",
    "\n",
    "num_to_action = {\n",
    "    '0':'u',\n",
    "    '1':'d',\n",
    "    '2':'r',\n",
    "    '3':'l'\n",
    "}"
   ]
  },
  {
   "cell_type": "code",
   "execution_count": 26,
   "id": "conventional-hudson",
   "metadata": {},
   "outputs": [],
   "source": [
    "def generateEpisode(env,policy,max_step):\n",
    "    state = env.reset()\n",
    "#     print(state)\n",
    "    episode = []\n",
    "    step = 0\n",
    "    while True:\n",
    "        if np.random.rand() < 0.85:\n",
    "            action = policy[env.current_position[0],env.current_position[1]]\n",
    "        else:\n",
    "            action = num_to_action[str(np.random.randint(0,4))]\n",
    "        new_state,reward,flag = env.step(action)\n",
    "        \n",
    "#         print(action,new_state,reward)\n",
    "        episode.append((state,action,reward))\n",
    "        state = new_state\n",
    "        if reward == 10 or step == max_step:\n",
    "            break\n",
    "        step += 1\n",
    "    return episode"
   ]
  },
  {
   "cell_type": "code",
   "execution_count": 27,
   "id": "plastic-batch",
   "metadata": {},
   "outputs": [],
   "source": [
    "# generateEpisode(env,policy,100)"
   ]
  },
  {
   "cell_type": "code",
   "execution_count": 28,
   "id": "danish-poster",
   "metadata": {},
   "outputs": [],
   "source": [
    "def qEstimation(env,policy,num_episodes, gamma=0.9):\n",
    "    \n",
    "    G_value = defaultdict(lambda: np.zeros(4))\n",
    "    number_of_visit = defaultdict(lambda: np.zeros(4))\n",
    "    Q_value = defaultdict(lambda: np.zeros(4))\n",
    "    for i_episode in range(1, num_episodes+1):\n",
    "        episode = generateEpisode(env,policy,200)\n",
    "        states,actions, rewards = zip(*episode)\n",
    "        discounts = np.array([gamma**i for i in range(len(rewards)+1)])\n",
    "\n",
    "        for i, state in enumerate(states):\n",
    "            G_value[state][action_to_num[actions[i]]] += sum(rewards[i:]*discounts[:-(1+i)])\n",
    "            number_of_visit[state][action_to_num[actions[i]]] += 1.0\n",
    "            Q_value[state][action_to_num[actions[i]]] = G_value[state][action_to_num[actions[i]]] / number_of_visit[state][action_to_num[actions[i]]]\n",
    "            policy[state[0],state[1]] = num_to_action[str(np.argmax(Q_value[state]))]\n",
    "            \n",
    "    return Q_value"
   ]
  },
  {
   "cell_type": "code",
   "execution_count": 29,
   "id": "measured-bride",
   "metadata": {},
   "outputs": [
    {
     "data": {
      "text/plain": [
       "array([['r', 'd', 'u', 'l'],\n",
       "       ['l', 'r', 'd', 'u'],\n",
       "       ['r', 'l', 'l', 'l'],\n",
       "       ['u', 'r', 'l', 'r']], dtype=object)"
      ]
     },
     "execution_count": 29,
     "metadata": {},
     "output_type": "execute_result"
    }
   ],
   "source": [
    "#random policy\n",
    "policy"
   ]
  },
  {
   "cell_type": "code",
   "execution_count": 12,
   "id": "married-cutting",
   "metadata": {},
   "outputs": [],
   "source": [
    "# ['s','f','f','h'],\n",
    "# ['h','h','f','h'],\n",
    "# ['h','f','f','h'],\n",
    "# ['h','f','f','g']"
   ]
  },
  {
   "cell_type": "code",
   "execution_count": 31,
   "id": "extended-allah",
   "metadata": {},
   "outputs": [
    {
     "data": {
      "text/plain": [
       "array([['r', 'r', 'd', 'l'],\n",
       "       ['r', 'r', 'd', 'l'],\n",
       "       ['r', 'd', 'd', 'd'],\n",
       "       ['r', 'r', 'r', 'd']], dtype=object)"
      ]
     },
     "execution_count": 31,
     "metadata": {},
     "output_type": "execute_result"
    }
   ],
   "source": [
    "#optimal policy\n",
    "policy"
   ]
  },
  {
   "cell_type": "code",
   "execution_count": 30,
   "id": "faced-specification",
   "metadata": {},
   "outputs": [],
   "source": [
    "q = qEstimation(env,policy,10000)\n"
   ]
  },
  {
   "cell_type": "code",
   "execution_count": 17,
   "id": "capable-retreat",
   "metadata": {},
   "outputs": [
    {
     "data": {
      "text/plain": [
       "defaultdict(<function __main__.qEstimation.<locals>.<lambda>()>,\n",
       "            {(1,\n",
       "              1): array([ 4.10642925,  6.01689613,  5.83169033, -0.82044123]),\n",
       "             (1,\n",
       "              0): array([ 2.51632694, -0.71453171,  5.19659999, -0.33876131]),\n",
       "             (0,\n",
       "              0): array([ 2.25487279, -1.29797528,  3.33595925, -0.35599018]),\n",
       "             (0,\n",
       "              1): array([ 2.53965523,  5.10129709, -1.656336  ,  1.08246111]),\n",
       "             (1,\n",
       "              3): array([-11.62775646,   8.54218783,   2.49010122,   3.8274542 ]),\n",
       "             (1,\n",
       "              2): array([-0.18883771,  7.37425796, -0.1266861 ,  4.78441276]),\n",
       "             (0,\n",
       "              3): array([ -8.78711189,  -5.92484879, -39.85053756,  -0.98850581]),\n",
       "             (0,\n",
       "              2): array([-14.44978603,   6.09176988,  -7.27774317,   4.32610968]),\n",
       "             (3,\n",
       "              1): array([ 6.07357671, -0.06328608,  2.71228637, -0.23981143]),\n",
       "             (3,\n",
       "              2): array([ 3.69289997,  3.03357781, 10.        , -0.23295004]),\n",
       "             (2, 2): array([6.11280234, 3.09528549, 8.57275948, 6.21871278]),\n",
       "             (2,\n",
       "              3): array([ 2.20106092, 10.        ,  8.48487192,  7.46031982]),\n",
       "             (2,\n",
       "              1): array([ 4.93234996,  0.13796971,  7.40206066, -0.3965331 ]),\n",
       "             (2,\n",
       "              0): array([-0.65622815,  0.17144604,  6.11002085, -0.5340859 ]),\n",
       "             (3,\n",
       "              3): array([ 8.964     , 10.        , 10.        ,  3.86846154]),\n",
       "             (3,\n",
       "              0): array([-0.10896752, -0.18969042, -0.27870995, -0.07897519])})"
      ]
     },
     "execution_count": 17,
     "metadata": {},
     "output_type": "execute_result"
    }
   ],
   "source": [
    "q"
   ]
  },
  {
   "cell_type": "code",
   "execution_count": null,
   "id": "quantitative-attention",
   "metadata": {},
   "outputs": [],
   "source": []
  },
  {
   "cell_type": "code",
   "execution_count": null,
   "id": "trying-utilization",
   "metadata": {},
   "outputs": [],
   "source": []
  }
 ],
 "metadata": {
  "kernelspec": {
   "display_name": "Python 3",
   "language": "python",
   "name": "python3"
  },
  "language_info": {
   "codemirror_mode": {
    "name": "ipython",
    "version": 3
   },
   "file_extension": ".py",
   "mimetype": "text/x-python",
   "name": "python",
   "nbconvert_exporter": "python",
   "pygments_lexer": "ipython3",
   "version": "3.7.3"
  }
 },
 "nbformat": 4,
 "nbformat_minor": 5
}
