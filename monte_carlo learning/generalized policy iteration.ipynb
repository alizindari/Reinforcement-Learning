{
 "cells": [
  {
   "cell_type": "code",
   "execution_count": 1,
   "id": "immune-ballet",
   "metadata": {},
   "outputs": [],
   "source": [
    "import sys\n",
    "import gym\n",
    "import numpy as np\n",
    "from collections import defaultdict\n",
    "import pdb\n",
    "from Environment import *"
   ]
  },
  {
   "cell_type": "code",
   "execution_count": 2,
   "id": "impressive-bowling",
   "metadata": {},
   "outputs": [],
   "source": [
    "env = Environment('4x4')"
   ]
  },
  {
   "cell_type": "code",
   "execution_count": 3,
   "id": "turned-vietnamese",
   "metadata": {},
   "outputs": [
    {
     "name": "stdout",
     "output_type": "stream",
     "text": [
      "[['d' 'l' 'r' 'u']\n",
      " ['l' 'r' 'r' 'l']\n",
      " ['r' 'u' 'r' 'd']\n",
      " ['r' 'u' 'l' 'u']]\n"
     ]
    }
   ],
   "source": [
    "policy = np.empty([4,4],dtype=object)\n",
    "possible_actions = ['l','r','d','u']\n",
    "for i in range(4):\n",
    "    for j in range(4):\n",
    "        policy[i,j] = possible_actions[np.random.randint(0,4)]\n",
    "        \n",
    "print(policy)"
   ]
  },
  {
   "cell_type": "code",
   "execution_count": 4,
   "id": "geological-smoke",
   "metadata": {},
   "outputs": [],
   "source": [
    "action_to_num = {\n",
    "    'u':0,\n",
    "    'd':1,\n",
    "    'r':2,\n",
    "    'l':3\n",
    "}\n",
    "\n",
    "num_to_action = {\n",
    "    '0':'u',\n",
    "    '1':'d',\n",
    "    '2':'r',\n",
    "    '3':'l'\n",
    "}"
   ]
  },
  {
   "cell_type": "code",
   "execution_count": 5,
   "id": "conventional-hudson",
   "metadata": {},
   "outputs": [],
   "source": [
    "def generateEpisode(env,policy,max_step):\n",
    "    state = env.reset()\n",
    "#     print(state)\n",
    "    episode = []\n",
    "    step = 0\n",
    "    while True:\n",
    "        if np.random.rand() < 0.85:\n",
    "            action = policy[env.current_position[0],env.current_position[1]]\n",
    "        else:\n",
    "            action = num_to_action[str(np.random.randint(0,4))]\n",
    "        new_state,reward,flag = env.step(action)\n",
    "        \n",
    "#         print(action,new_state,reward)\n",
    "        episode.append((state,action,reward))\n",
    "        state = new_state\n",
    "        if reward == 10 or step == max_step:\n",
    "            break\n",
    "        step += 1\n",
    "    return episode"
   ]
  },
  {
   "cell_type": "code",
   "execution_count": 6,
   "id": "plastic-batch",
   "metadata": {},
   "outputs": [],
   "source": [
    "# generateEpisode(env,policy,100)"
   ]
  },
  {
   "cell_type": "code",
   "execution_count": 7,
   "id": "danish-poster",
   "metadata": {},
   "outputs": [],
   "source": [
    "def qEstimation(env,policy,num_episodes, gamma=0.9):\n",
    "    \n",
    "    G_value = defaultdict(lambda: np.zeros(4))\n",
    "    number_of_visit = defaultdict(lambda: np.zeros(4))\n",
    "    Q_value = defaultdict(lambda: np.zeros(4))\n",
    "    for i_episode in range(1, num_episodes+1):\n",
    "        episode = generateEpisode(env,policy,200)\n",
    "        states,actions, rewards = zip(*episode)\n",
    "        discounts = np.array([gamma**i for i in range(len(rewards)+1)])\n",
    "\n",
    "        for i, state in enumerate(states):\n",
    "            G_value[state][action_to_num[actions[i]]] += sum(rewards[i:]*discounts[:-(1+i)])\n",
    "            number_of_visit[state][action_to_num[actions[i]]] += 1.0\n",
    "            Q_value[state][action_to_num[actions[i]]] = G_value[state][action_to_num[actions[i]]] / number_of_visit[state][action_to_num[actions[i]]]\n",
    "            policy[state[0],state[1]] = num_to_action[str(np.argmax(Q_value[state]))]\n",
    "            \n",
    "    return Q_value"
   ]
  },
  {
   "cell_type": "code",
   "execution_count": 8,
   "id": "measured-bride",
   "metadata": {},
   "outputs": [
    {
     "data": {
      "text/plain": [
       "array([['d', 'l', 'r', 'u'],\n",
       "       ['l', 'r', 'r', 'l'],\n",
       "       ['r', 'u', 'r', 'd'],\n",
       "       ['r', 'u', 'l', 'u']], dtype=object)"
      ]
     },
     "execution_count": 8,
     "metadata": {},
     "output_type": "execute_result"
    }
   ],
   "source": [
    "#random policy\n",
    "policy"
   ]
  },
  {
   "cell_type": "code",
   "execution_count": 9,
   "id": "married-cutting",
   "metadata": {},
   "outputs": [],
   "source": [
    "# ['s','h','h','g']\n",
    "# ['f','h','h','f']\n",
    "# ['f','h','h','f']\n",
    "# ['f','f','f','f']"
   ]
  },
  {
   "cell_type": "code",
   "execution_count": 12,
   "id": "extended-allah",
   "metadata": {},
   "outputs": [
    {
     "data": {
      "text/plain": [
       "array([['d', 'l', 'r', 'u'],\n",
       "       ['d', 'l', 'r', 'u'],\n",
       "       ['d', 'd', 'r', 'u'],\n",
       "       ['r', 'r', 'r', 'u']], dtype=object)"
      ]
     },
     "execution_count": 12,
     "metadata": {},
     "output_type": "execute_result"
    }
   ],
   "source": [
    "#optimal policy\n",
    "policy"
   ]
  },
  {
   "cell_type": "code",
   "execution_count": 11,
   "id": "faced-specification",
   "metadata": {},
   "outputs": [],
   "source": [
    "q = qEstimation(env,policy,10000)\n"
   ]
  },
  {
   "cell_type": "code",
   "execution_count": 13,
   "id": "capable-retreat",
   "metadata": {},
   "outputs": [
    {
     "data": {
      "text/plain": [
       "defaultdict(<function __main__.qEstimation.<locals>.<lambda>()>,\n",
       "            {(0,\n",
       "              3): array([10.        ,  8.90357143, 10.        ,  3.4       ]),\n",
       "             (2,\n",
       "              1): array([-5.11873176, -4.98053199,  0.20034495,  3.2048366 ]),\n",
       "             (3,\n",
       "              1): array([-5.48283367,  3.5542684 ,  5.02188   ,  3.58739383]),\n",
       "             (1,\n",
       "              1): array([-6.73585798, -3.09664833,  1.64519636,  0.45443602]),\n",
       "             (1,\n",
       "              2): array([ 1.45214528,  0.18459389,  8.53904698, -3.41593286]),\n",
       "             (2,\n",
       "              2): array([ 1.36546244,  2.65274548,  6.71065313, -4.59037577]),\n",
       "             (3,\n",
       "              2): array([-0.63843871, -0.24039239,  6.08043511,  1.26824004]),\n",
       "             (3, 3): array([7.33719087, 6.08613732, 6.11427245, 1.31857744]),\n",
       "             (2, 3): array([8.55353941, 4.10877862, 4.83865058, 0.72970952]),\n",
       "             (1,\n",
       "              3): array([10.        ,  7.2913994 ,  8.41355732,  1.40771396]),\n",
       "             (3, 0): array([1.40380345, 1.68745923, 4.50555254, 0.07805122]),\n",
       "             (2,\n",
       "              0): array([ 1.32525872,  3.78657038, -3.28875914, -0.35898963]),\n",
       "             (0,\n",
       "              1): array([ -5.32282438,  -4.47671909,   2.90751777, -15.43022388]),\n",
       "             (0,\n",
       "              0): array([ -0.90101763,   0.91176725, -17.54585631,   0.2104711 ]),\n",
       "             (0,\n",
       "              2): array([-9.90025264, -0.13611429, 10.        , -4.60637206]),\n",
       "             (1,\n",
       "              0): array([-1.7201141 ,  2.94648982, -4.60661124,  0.43892253])})"
      ]
     },
     "execution_count": 13,
     "metadata": {},
     "output_type": "execute_result"
    }
   ],
   "source": [
    "q"
   ]
  },
  {
   "cell_type": "code",
   "execution_count": null,
   "id": "quantitative-attention",
   "metadata": {},
   "outputs": [],
   "source": []
  },
  {
   "cell_type": "code",
   "execution_count": null,
   "id": "trying-utilization",
   "metadata": {},
   "outputs": [],
   "source": []
  }
 ],
 "metadata": {
  "kernelspec": {
   "display_name": "Python 3",
   "language": "python",
   "name": "python3"
  },
  "language_info": {
   "codemirror_mode": {
    "name": "ipython",
    "version": 3
   },
   "file_extension": ".py",
   "mimetype": "text/x-python",
   "name": "python",
   "nbconvert_exporter": "python",
   "pygments_lexer": "ipython3",
   "version": "3.7.3"
  }
 },
 "nbformat": 4,
 "nbformat_minor": 5
}
