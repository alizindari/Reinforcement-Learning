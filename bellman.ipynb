{
 "cells": [
  {
   "cell_type": "code",
   "execution_count": 1,
   "id": "foster-charles",
   "metadata": {},
   "outputs": [],
   "source": [
    "import gym\n",
    "import numpy as np\n",
    "import pdb\n",
    "from Environment import Environment"
   ]
  },
  {
   "cell_type": "code",
   "execution_count": 2,
   "id": "direct-banana",
   "metadata": {},
   "outputs": [],
   "source": [
    "env = Environment('4x4')"
   ]
  },
  {
   "cell_type": "code",
   "execution_count": 3,
   "id": "considered-companion",
   "metadata": {},
   "outputs": [],
   "source": [
    "def updateValues(env,value_matrix,gamma):\n",
    "    \n",
    "    copy_mat = value_matrix.copy()\n",
    "    for i in range(4):\n",
    "        for j in range(4):\n",
    "            env.setPosition(i,j)\n",
    "            for ac in env.actions:\n",
    "                if env.getState() == 'g':\n",
    "                    continue\n",
    "                row,col,reward,flag = env.step(ac)\n",
    "\n",
    "                value_matrix[i,j] += np.round((1/4)*(reward + gamma*copy_mat[row,col]),1)\n",
    "                env.setPosition(i,j)                \n",
    "    return value_matrix"
   ]
  },
  {
   "cell_type": "code",
   "execution_count": 4,
   "id": "incident-friendship",
   "metadata": {},
   "outputs": [],
   "source": [
    "epochs = 50\n",
    "\n",
    "matrix = np.zeros([4,4])\n",
    "list_of_values = []\n",
    "list_of_values.append(matrix.copy())\n",
    "\n",
    "\n",
    "env.reset()\n",
    "for eps in range(epochs):\n",
    "    matrix = updateValues(env,matrix,0.95)\n",
    "    list_of_values.append(matrix.copy())\n"
   ]
  },
  {
   "cell_type": "code",
   "execution_count": 5,
   "id": "delayed-malawi",
   "metadata": {},
   "outputs": [
    {
     "data": {
      "text/plain": [
       "array([[-186.8, -186.4, -184.8, -182.3],\n",
       "       [-186.4, -184.2, -177.1, -166.4],\n",
       "       [-184.8, -177.1, -153.6, -115.5],\n",
       "       [-182.3, -166.4, -115.5,    0. ]])"
      ]
     },
     "execution_count": 5,
     "metadata": {},
     "output_type": "execute_result"
    }
   ],
   "source": [
    "list_of_values[8]"
   ]
  }
 ],
 "metadata": {
  "kernelspec": {
   "display_name": "Python 3",
   "language": "python",
   "name": "python3"
  },
  "language_info": {
   "codemirror_mode": {
    "name": "ipython",
    "version": 3
   },
   "file_extension": ".py",
   "mimetype": "text/x-python",
   "name": "python",
   "nbconvert_exporter": "python",
   "pygments_lexer": "ipython3",
   "version": "3.7.3"
  }
 },
 "nbformat": 4,
 "nbformat_minor": 5
}
