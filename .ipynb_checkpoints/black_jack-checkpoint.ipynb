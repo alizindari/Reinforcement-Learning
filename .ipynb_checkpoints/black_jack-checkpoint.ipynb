{
 "cells": [
  {
   "cell_type": "code",
   "execution_count": 1,
   "id": "grateful-screw",
   "metadata": {},
   "outputs": [],
   "source": [
    "import sys\n",
    "import gym\n",
    "import numpy as np\n",
    "from collections import defaultdict"
   ]
  },
  {
   "cell_type": "code",
   "execution_count": 2,
   "id": "dietary-reason",
   "metadata": {},
   "outputs": [
    {
     "name": "stdout",
     "output_type": "stream",
     "text": [
      "Tuple(Discrete(32), Discrete(11), Discrete(2))\n",
      "Discrete(2)\n"
     ]
    }
   ],
   "source": [
    "env = gym.make('Blackjack-v0')\n",
    "print(env.observation_space)\n",
    "print(env.action_space)"
   ]
  },
  {
   "cell_type": "code",
   "execution_count": 7,
   "id": "amino-customs",
   "metadata": {},
   "outputs": [
    {
     "name": "stdout",
     "output_type": "stream",
     "text": [
      "(12, 3, False)\n",
      "action is 1\n",
      "(16, 3, False)\n",
      "action is 1\n",
      "Reward:  -1 (Player lost)\n",
      "\n"
     ]
    }
   ],
   "source": [
    "state = env.reset()\n",
    "while True:\n",
    "    print(state)\n",
    "    action = env.action_space.sample()\n",
    "    print(f'action is {action}')\n",
    "    state, reward, done, info = env.step(action)\n",
    "    if done:\n",
    "        if reward > 0: \n",
    "            print('Reward: ', reward, '(Player won)\\n')\n",
    "        else: \n",
    "            print('Reward: ', reward, '(Player lost)\\n')\n",
    "        break"
   ]
  },
  {
   "cell_type": "code",
   "execution_count": 8,
   "id": "toxic-handbook",
   "metadata": {},
   "outputs": [],
   "source": [
    "def generate_episode(env):\n",
    "    episode = []\n",
    "    state = env.reset() \n",
    "    while True:\n",
    "        probs = [0.75, 0.25] if state[0] > 18 else [0.25, 0.75]\n",
    "        action = np.random.choice(np.arange(2), p=probs)\n",
    "        next_state, reward, done, info = env.step(action)\n",
    "        episode.append((state, action, reward))\n",
    "        state = next_state\n",
    "        if done:\n",
    "            break\n",
    "        return episode"
   ]
  },
  {
   "cell_type": "code",
   "execution_count": 11,
   "id": "oriented-house",
   "metadata": {},
   "outputs": [],
   "source": [
    "seq = generate_episode(env)"
   ]
  },
  {
   "cell_type": "code",
   "execution_count": null,
   "id": "recent-switch",
   "metadata": {},
   "outputs": [],
   "source": []
  }
 ],
 "metadata": {
  "kernelspec": {
   "display_name": "Python 3",
   "language": "python",
   "name": "python3"
  },
  "language_info": {
   "codemirror_mode": {
    "name": "ipython",
    "version": 3
   },
   "file_extension": ".py",
   "mimetype": "text/x-python",
   "name": "python",
   "nbconvert_exporter": "python",
   "pygments_lexer": "ipython3",
   "version": "3.7.3"
  }
 },
 "nbformat": 4,
 "nbformat_minor": 5
}
