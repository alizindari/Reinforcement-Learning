{
 "cells": [
  {
   "cell_type": "code",
   "execution_count": 25,
   "id": "bigger-humanitarian",
   "metadata": {},
   "outputs": [],
   "source": [
    "import sys\n",
    "import gym\n",
    "import numpy as np\n",
    "from collections import defaultdict\n",
    "import pdb\n",
    "import matplotlib.pyplot as plt\n",
    "from Environment import *"
   ]
  },
  {
   "cell_type": "code",
   "execution_count": 26,
   "id": "julian-division",
   "metadata": {},
   "outputs": [],
   "source": [
    "Map  = np.array([['s','f','f'],\n",
    "                 ['f','f','f'],\n",
    "                 ['f','f','g']\n",
    "                             ])\n",
    "\n",
    "env = Environment(Map)"
   ]
  },
  {
   "cell_type": "code",
   "execution_count": 27,
   "id": "deadly-austin",
   "metadata": {},
   "outputs": [
    {
     "name": "stdout",
     "output_type": "stream",
     "text": [
      "[['d' 'r' 'u']\n",
      " ['d' 'l' 'd']\n",
      " ['d' 'r' 'd']]\n"
     ]
    }
   ],
   "source": [
    "policy = np.empty([Map.shape[0],Map.shape[1]],dtype=object)\n",
    "possible_actions = ['l','r','d','u']\n",
    "for i in range(Map.shape[0]):\n",
    "    for j in range(Map.shape[1]):\n",
    "        policy[i,j] = possible_actions[np.random.randint(0,4)]\n",
    "        \n",
    "print(policy)"
   ]
  },
  {
   "cell_type": "code",
   "execution_count": 28,
   "id": "twelve-going",
   "metadata": {},
   "outputs": [],
   "source": [
    "action_to_num = {\n",
    "    'u':0,\n",
    "    'd':1,\n",
    "    'r':2,\n",
    "    'l':3\n",
    "}\n",
    "\n",
    "num_to_action = {\n",
    "    '0':'u',\n",
    "    '1':'d',\n",
    "    '2':'r',\n",
    "    '3':'l'\n",
    "}"
   ]
  },
  {
   "cell_type": "code",
   "execution_count": 29,
   "id": "decreased-vulnerability",
   "metadata": {},
   "outputs": [],
   "source": [
    "def vEstimation(env,policy,num_iter,num_episodes,alpha, gamma=0.9):\n",
    "    \n",
    "    value_matrix = np.zeros(Map.shape)\n",
    "    for it in range(num_iter):\n",
    "        state = env.reset()\n",
    "        for eps in range(num_episodes):\n",
    "            if np.random.rand() < 0.85:\n",
    "                new_state,reward,flag = env.step(policy[env.current_position[0],env.current_position[1]])\n",
    "            else:\n",
    "                x = np.random.randint(0,Map.shape[0])\n",
    "                y = np.random.randint(0,Map.shape[1])\n",
    "                new_state,reward,flag = env.step(policy[x,y])\n",
    "                \n",
    "            value_matrix[state[0],state[1]] += alpha*(reward+gamma*value_matrix[env.current_position[0],env.current_position[1]]-value_matrix[state[0],state[1]])\n",
    "            state = new_state\n",
    "            if env.getState() == 'g' or env.getState() == 'h':\n",
    "                break\n",
    "            \n",
    "            \n",
    "    return value_matrix"
   ]
  },
  {
   "cell_type": "code",
   "execution_count": 34,
   "id": "constitutional-blood",
   "metadata": {},
   "outputs": [],
   "source": [
    "val_mat = vEstimation(env,policy,10000,50,0.9,0.9)"
   ]
  },
  {
   "cell_type": "code",
   "execution_count": 35,
   "id": "unexpected-remark",
   "metadata": {},
   "outputs": [
    {
     "data": {
      "text/plain": [
       "array([[51.708, 72.81 , 87.175],\n",
       "       [74.884, 62.023, 99.178],\n",
       "       [54.274, 99.176, 99.098]])"
      ]
     },
     "execution_count": 35,
     "metadata": {},
     "output_type": "execute_result"
    }
   ],
   "source": [
    "np.round(val_mat,3)"
   ]
  },
  {
   "cell_type": "code",
   "execution_count": 33,
   "id": "numerous-falls",
   "metadata": {},
   "outputs": [
    {
     "data": {
      "text/plain": [
       "array([['d', 'r', 'u'],\n",
       "       ['d', 'l', 'd'],\n",
       "       ['d', 'r', 'd']], dtype=object)"
      ]
     },
     "execution_count": 33,
     "metadata": {},
     "output_type": "execute_result"
    }
   ],
   "source": [
    "policy"
   ]
  },
  {
   "cell_type": "code",
   "execution_count": null,
   "id": "korean-introduction",
   "metadata": {},
   "outputs": [],
   "source": [
    "['s','f','f','f','f','f','f']\n",
    "['f','f','f','f','f','f','f']\n",
    "['f','f','f','f','f','f','f']\n",
    "['f','f','f','f','f','f','f']\n",
    "['f','f','f','f','f','f','g']\n",
    "['f','f','f','f','f','f','f']\n",
    "['f','f','f','f','f','f','f']"
   ]
  }
 ],
 "metadata": {
  "kernelspec": {
   "display_name": "Python 3",
   "language": "python",
   "name": "python3"
  },
  "language_info": {
   "codemirror_mode": {
    "name": "ipython",
    "version": 3
   },
   "file_extension": ".py",
   "mimetype": "text/x-python",
   "name": "python",
   "nbconvert_exporter": "python",
   "pygments_lexer": "ipython3",
   "version": "3.7.3"
  }
 },
 "nbformat": 4,
 "nbformat_minor": 5
}
