{
 "cells": [
  {
   "cell_type": "code",
   "execution_count": 1,
   "id": "modified-inclusion",
   "metadata": {},
   "outputs": [],
   "source": [
    "import sys\n",
    "import gym\n",
    "import numpy as np\n",
    "from collections import defaultdict\n",
    "import pdb\n",
    "import matplotlib.pyplot as plt\n",
    "from Environment import *"
   ]
  },
  {
   "cell_type": "code",
   "execution_count": 16,
   "id": "casual-psychology",
   "metadata": {},
   "outputs": [],
   "source": [
    "Map  = np.array([['s','h','h','h','h','h','h'],\n",
    "                 ['f','h','h','h','h','h','h'],\n",
    "                 ['f','h','h','h','h','h','h'],\n",
    "                 ['f','h','h','h','h','h','h'],\n",
    "                 ['f','h','h','h','h','h','g'],\n",
    "                 ['f','h','h','h','h','h','f'],\n",
    "                 ['f','f','f','f','f','f','f']])\n",
    "\n",
    "env = Environment(Map,False)"
   ]
  },
  {
   "cell_type": "code",
   "execution_count": 17,
   "id": "several-while",
   "metadata": {},
   "outputs": [],
   "source": [
    "Q_values = defaultdict(lambda: np.random.randint(0,4,4).astype(np.float32))"
   ]
  },
  {
   "cell_type": "code",
   "execution_count": 18,
   "id": "bright-myrtle",
   "metadata": {},
   "outputs": [],
   "source": [
    "action_to_num = {\n",
    "    'u':0,\n",
    "    'd':1,\n",
    "    'r':2,\n",
    "    'l':3\n",
    "}\n",
    "\n",
    "num_to_action = {\n",
    "    '0':'u',\n",
    "    '1':'d',\n",
    "    '2':'r',\n",
    "    '3':'l'\n",
    "}"
   ]
  },
  {
   "cell_type": "code",
   "execution_count": 19,
   "id": "incomplete-queen",
   "metadata": {},
   "outputs": [],
   "source": [
    "def QLearning(env,Q_values,num_iter,num_episodes,alpha, gamma=0.9):\n",
    "    \n",
    "    for it in range(num_iter):\n",
    "        state = env.reset()\n",
    "        for eps in range(num_episodes):\n",
    "            if np.random.rand() < 0.85:\n",
    "                action = num_to_action[str(np.argmax(Q_values[state]))]\n",
    "                new_state,reward,flag = env.step(action)\n",
    "            else:\n",
    "                action = num_to_action[str(np.random.randint(0,4))]\n",
    "                new_state,reward,flag = env.step(action)\n",
    "                \n",
    "            Q_values[(state[0],state[1])][action_to_num[action]] += alpha*(reward+gamma*max(Q_values[(env.current_position[0],env.current_position[1])])-Q_values[(state[0],state[1])][action_to_num[action]])\n",
    "            state = new_state\n",
    "            if env.getState() == 'g':\n",
    "                break\n",
    "            \n",
    "            \n",
    "    return Q_values"
   ]
  },
  {
   "cell_type": "code",
   "execution_count": null,
   "id": "accepting-banner",
   "metadata": {},
   "outputs": [],
   "source": [
    "Q_star = QLearning(env,Q_values,50000,200,0.9,0.9)"
   ]
  },
  {
   "cell_type": "code",
   "execution_count": null,
   "id": "literary-extraction",
   "metadata": {},
   "outputs": [],
   "source": [
    "def QvalueToPolicy(Q,Map):\n",
    "    policy = np.empty(Map.shape,dtype=object)\n",
    "    \n",
    "    for i in range(Map.shape[0]):\n",
    "        for j in range(Map.shape[1]):\n",
    "            policy[i,j] = num_to_action[str(np.argmax(Q[(i,j)]))]\n",
    "            \n",
    "    return policy"
   ]
  },
  {
   "cell_type": "code",
   "execution_count": null,
   "id": "fabulous-dining",
   "metadata": {},
   "outputs": [],
   "source": [
    "policy = QvalueToPolicy(Q_star,Map)\n",
    "policy"
   ]
  },
  {
   "cell_type": "code",
   "execution_count": null,
   "id": "vital-involvement",
   "metadata": {},
   "outputs": [],
   "source": []
  }
 ],
 "metadata": {
  "kernelspec": {
   "display_name": "Python 3",
   "language": "python",
   "name": "python3"
  },
  "language_info": {
   "codemirror_mode": {
    "name": "ipython",
    "version": 3
   },
   "file_extension": ".py",
   "mimetype": "text/x-python",
   "name": "python",
   "nbconvert_exporter": "python",
   "pygments_lexer": "ipython3",
   "version": "3.7.3"
  }
 },
 "nbformat": 4,
 "nbformat_minor": 5
}
