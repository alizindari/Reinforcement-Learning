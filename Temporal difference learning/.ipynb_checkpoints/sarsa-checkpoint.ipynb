{
 "cells": [
  {
   "cell_type": "code",
   "execution_count": 1,
   "id": "continent-funds",
   "metadata": {},
   "outputs": [],
   "source": [
    "import sys\n",
    "import gym\n",
    "import numpy as np\n",
    "from collections import defaultdict\n",
    "import pdb\n",
    "import matplotlib.pyplot as plt\n",
    "from Environment import *"
   ]
  },
  {
   "cell_type": "code",
   "execution_count": 12,
   "id": "seven-weekend",
   "metadata": {},
   "outputs": [],
   "source": [
    "Map  = np.array([['s','h','h','h','h','h','h'],\n",
    "                 ['f','h','h','h','h','h','h'],\n",
    "                 ['f','h','h','h','h','h','h'],\n",
    "                 ['f','h','h','h','h','h','h'],\n",
    "                 ['f','h','h','h','h','h','g'],\n",
    "                 ['f','h','h','h','h','h','f'],\n",
    "                 ['f','f','f','f','f','f','f']])\n",
    "\n",
    "env = Environment(Map,False)"
   ]
  },
  {
   "cell_type": "code",
   "execution_count": 13,
   "id": "inner-saturn",
   "metadata": {},
   "outputs": [],
   "source": [
    "Q_values = defaultdict(lambda: np.random.randint(0,4,4).astype(np.float32))"
   ]
  },
  {
   "cell_type": "code",
   "execution_count": 14,
   "id": "christian-democracy",
   "metadata": {},
   "outputs": [],
   "source": [
    "action_to_num = {\n",
    "    'u':0,\n",
    "    'd':1,\n",
    "    'r':2,\n",
    "    'l':3\n",
    "}\n",
    "\n",
    "num_to_action = {\n",
    "    '0':'u',\n",
    "    '1':'d',\n",
    "    '2':'r',\n",
    "    '3':'l'\n",
    "}"
   ]
  },
  {
   "cell_type": "code",
   "execution_count": 15,
   "id": "later-immigration",
   "metadata": {},
   "outputs": [],
   "source": [
    "def sarsa(env,Q_values,num_iter,num_episodes,alpha, gamma=0.9):\n",
    "    \n",
    "    for it in range(num_iter):\n",
    "        state = env.reset()\n",
    "        action = num_to_action[str(np.argmax(Q_values[state]))]\n",
    "        for eps in range(num_episodes):\n",
    "            if np.random.rand() < 0.85:\n",
    "                new_action = num_to_action[str(np.argmax(Q_values[state]))]\n",
    "                new_state,reward,flag = env.step(action)\n",
    "            else:\n",
    "                new_action = num_to_action[str(np.random.randint(0,4))]\n",
    "                new_state,reward,flag = env.step(action)\n",
    "                \n",
    "            Q_values[(state[0],state[1])][action_to_num[action]] += alpha*(reward+gamma*Q_values[(env.current_position[0],env.current_position[1])][action_to_num[new_action]]-Q_values[(state[0],state[1])][action_to_num[action]])\n",
    "            state = new_state\n",
    "            action = new_action\n",
    "            if env.getState() == 'g' or env.getState() == 'h':\n",
    "                break\n",
    "            \n",
    "            \n",
    "    return Q_values"
   ]
  },
  {
   "cell_type": "code",
   "execution_count": 16,
   "id": "political-carter",
   "metadata": {},
   "outputs": [],
   "source": [
    "Q_star = sarsa(env,Q_values,100000,200,0.9,0.9)"
   ]
  },
  {
   "cell_type": "code",
   "execution_count": 17,
   "id": "violent-canyon",
   "metadata": {},
   "outputs": [],
   "source": [
    "def QvalueToPolicy(Q,Map):\n",
    "    policy = np.empty(Map.shape,dtype=object)\n",
    "    \n",
    "    for i in range(Map.shape[0]):\n",
    "        for j in range(Map.shape[1]):\n",
    "            policy[i,j] = num_to_action[str(np.argmax(Q[(i,j)]))]\n",
    "            \n",
    "    return policy"
   ]
  },
  {
   "cell_type": "code",
   "execution_count": 18,
   "id": "difficult-shuttle",
   "metadata": {},
   "outputs": [
    {
     "data": {
      "text/plain": [
       "array([['l', 'l', 'r', 'r', 'd', 'u', 'u'],\n",
       "       ['l', 'l', 'r', 'r', 'u', 'u', 'u'],\n",
       "       ['r', 'l', 'r', 'r', 'u', 'l', 'u'],\n",
       "       ['l', 'l', 'r', 'u', 'u', 'r', 'r'],\n",
       "       ['l', 'd', 'r', 'u', 'r', 'r', 'r'],\n",
       "       ['u', 'd', 'd', 'd', 'u', 'r', 'u'],\n",
       "       ['d', 'd', 'l', 'd', 'd', 'u', 'r']], dtype=object)"
      ]
     },
     "execution_count": 18,
     "metadata": {},
     "output_type": "execute_result"
    }
   ],
   "source": [
    "policy = QvalueToPolicy(Q_star,Map)\n",
    "policy"
   ]
  },
  {
   "cell_type": "code",
   "execution_count": 9,
   "id": "identical-kitty",
   "metadata": {},
   "outputs": [
    {
     "data": {
      "text/plain": [
       "defaultdict(<function __main__.<lambda>()>,\n",
       "            {(2,\n",
       "              0): array([-9.999995, -9.999995, 88.99996 , -9.999995], dtype=float32),\n",
       "             (2,\n",
       "              1): array([-9.999995, -9.999995, 99.99996 , -9.999995], dtype=float32),\n",
       "             (1,\n",
       "              1): array([-9.999995, -9.999995, -9.999995, -9.999995], dtype=float32),\n",
       "             (0,\n",
       "              1): array([-9.999995, -9.999995, -9.999995, -9.999995], dtype=float32),\n",
       "             (0,\n",
       "              0): array([-9.999995, -9.999995, -9.999995, -9.999995], dtype=float32),\n",
       "             (1,\n",
       "              0): array([-9.999995, -9.999995, -9.999995, -9.999995], dtype=float32),\n",
       "             (1,\n",
       "              2): array([-9.999995, 99.99996 , -9.999995, -9.999995], dtype=float32),\n",
       "             (0,\n",
       "              2): array([-9.999995, 88.99996 , -9.999995, -9.999995], dtype=float32),\n",
       "             (2,\n",
       "              2): array([-9.999995, 99.99996 , 99.99996 , -9.999995], dtype=float32)})"
      ]
     },
     "execution_count": 9,
     "metadata": {},
     "output_type": "execute_result"
    }
   ],
   "source": [
    "Q_star"
   ]
  },
  {
   "cell_type": "code",
   "execution_count": null,
   "id": "constitutional-parking",
   "metadata": {},
   "outputs": [],
   "source": []
  }
 ],
 "metadata": {
  "kernelspec": {
   "display_name": "Python 3",
   "language": "python",
   "name": "python3"
  },
  "language_info": {
   "codemirror_mode": {
    "name": "ipython",
    "version": 3
   },
   "file_extension": ".py",
   "mimetype": "text/x-python",
   "name": "python",
   "nbconvert_exporter": "python",
   "pygments_lexer": "ipython3",
   "version": "3.7.3"
  }
 },
 "nbformat": 4,
 "nbformat_minor": 5
}
