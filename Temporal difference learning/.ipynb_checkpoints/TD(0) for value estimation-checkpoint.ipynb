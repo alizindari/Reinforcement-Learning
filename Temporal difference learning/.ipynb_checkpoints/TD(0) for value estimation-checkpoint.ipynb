{
 "cells": [
  {
   "cell_type": "code",
   "execution_count": 1,
   "id": "bigger-humanitarian",
   "metadata": {},
   "outputs": [],
   "source": [
    "import sys\n",
    "import gym\n",
    "import numpy as np\n",
    "from collections import defaultdict\n",
    "import pdb\n",
    "import matplotlib.pyplot as plt\n",
    "from Environment import *"
   ]
  },
  {
   "cell_type": "code",
   "execution_count": 2,
   "id": "earlier-dominican",
   "metadata": {},
   "outputs": [],
   "source": [
    "Map  = np.array([['s','h','h','f','f','f','f'],\n",
    "                 ['f','h','h','f','f','h','f'],\n",
    "                 ['f','h','h','f','f','f','h'],\n",
    "                 ['f','h','f','f','f','h','f'],\n",
    "                 ['f','h','h','f','h','f','g'],\n",
    "                 ['f','h','h','h','h','h','f'],\n",
    "                 ['f','f','f','f','f','f','f']])\n",
    "\n",
    "env = Environment(Map)"
   ]
  },
  {
   "cell_type": "code",
   "execution_count": 3,
   "id": "entertaining-circular",
   "metadata": {},
   "outputs": [
    {
     "name": "stdout",
     "output_type": "stream",
     "text": [
      "[['d' 'r' 'l' 'd' 'u' 'd' 'u']\n",
      " ['d' 'd' 'u' 'l' 'u' 'u' 'l']\n",
      " ['d' 'l' 'l' 'u' 'u' 'r' 'u']\n",
      " ['u' 'd' 'r' 'u' 'l' 'd' 'u']\n",
      " ['l' 'd' 'u' 'd' 'l' 'l' 'u']\n",
      " ['u' 'l' 'd' 'r' 'l' 'r' 'l']\n",
      " ['l' 'd' 'd' 'd' 'r' 'd' 'l']]\n"
     ]
    }
   ],
   "source": [
    "policy = np.empty([Map.shape[0],Map.shape[1]],dtype=object)\n",
    "possible_actions = ['l','r','d','u']\n",
    "for i in range(Map.shape[0]):\n",
    "    for j in range(Map.shape[1]):\n",
    "        policy[i,j] = possible_actions[np.random.randint(0,4)]\n",
    "        \n",
    "print(policy)"
   ]
  },
  {
   "cell_type": "code",
   "execution_count": 4,
   "id": "sorted-management",
   "metadata": {},
   "outputs": [],
   "source": [
    "action_to_num = {\n",
    "    'u':0,\n",
    "    'd':1,\n",
    "    'r':2,\n",
    "    'l':3\n",
    "}\n",
    "\n",
    "num_to_action = {\n",
    "    '0':'u',\n",
    "    '1':'d',\n",
    "    '2':'r',\n",
    "    '3':'l'\n",
    "}"
   ]
  },
  {
   "cell_type": "code",
   "execution_count": 25,
   "id": "desperate-palmer",
   "metadata": {},
   "outputs": [],
   "source": [
    "def vEstimation(env,policy,num_iter,num_episodes,alpha, gamma=0.9):\n",
    "    \n",
    "    value_matrix = np.zeros(Map.shape)\n",
    "    for it in range(num_iter):\n",
    "        state = env.reset()\n",
    "        for eps in range(num_episodes):\n",
    "            new_state,reward,flag = env.step(policy[env.getState()])\n",
    "            value_matrix[state[0],state[1]] += alpha*(reward+gamma*\n",
    "                                                      value_matrix[env.current_position[0],env.current_position[1]]-\n",
    "                                                      value_matrix[state[0],state[1]])\n",
    "            state = new_state\n",
    "            if env.getState() == 'g' or env.getState() == 'h':\n",
    "                break\n",
    "            \n",
    "            \n",
    "    return value_matrix"
   ]
  },
  {
   "cell_type": "code",
   "execution_count": 26,
   "id": "superior-serial",
   "metadata": {},
   "outputs": [
    {
     "ename": "IndexError",
     "evalue": "only integers, slices (`:`), ellipsis (`...`), numpy.newaxis (`None`) and integer or boolean arrays are valid indices",
     "output_type": "error",
     "traceback": [
      "\u001b[1;31m---------------------------------------------------------------------------\u001b[0m",
      "\u001b[1;31mIndexError\u001b[0m                                Traceback (most recent call last)",
      "\u001b[1;32m<ipython-input-26-ffd8796f82fd>\u001b[0m in \u001b[0;36m<module>\u001b[1;34m\u001b[0m\n\u001b[1;32m----> 1\u001b[1;33m \u001b[0mval_mat\u001b[0m \u001b[1;33m=\u001b[0m \u001b[0mvEstimation\u001b[0m\u001b[1;33m(\u001b[0m\u001b[0menv\u001b[0m\u001b[1;33m,\u001b[0m\u001b[0mpolicy\u001b[0m\u001b[1;33m,\u001b[0m\u001b[1;36m5000\u001b[0m\u001b[1;33m,\u001b[0m\u001b[1;36m200\u001b[0m\u001b[1;33m,\u001b[0m\u001b[1;36m0.9\u001b[0m\u001b[1;33m,\u001b[0m\u001b[1;36m0.9\u001b[0m\u001b[1;33m)\u001b[0m\u001b[1;33m\u001b[0m\u001b[1;33m\u001b[0m\u001b[0m\n\u001b[0m",
      "\u001b[1;32m<ipython-input-25-e52826335d78>\u001b[0m in \u001b[0;36mvEstimation\u001b[1;34m(env, policy, num_iter, num_episodes, alpha, gamma)\u001b[0m\n\u001b[0;32m      5\u001b[0m         \u001b[0mstate\u001b[0m \u001b[1;33m=\u001b[0m \u001b[0menv\u001b[0m\u001b[1;33m.\u001b[0m\u001b[0mreset\u001b[0m\u001b[1;33m(\u001b[0m\u001b[1;33m)\u001b[0m\u001b[1;33m\u001b[0m\u001b[1;33m\u001b[0m\u001b[0m\n\u001b[0;32m      6\u001b[0m         \u001b[1;32mfor\u001b[0m \u001b[0meps\u001b[0m \u001b[1;32min\u001b[0m \u001b[0mrange\u001b[0m\u001b[1;33m(\u001b[0m\u001b[0mnum_episodes\u001b[0m\u001b[1;33m)\u001b[0m\u001b[1;33m:\u001b[0m\u001b[1;33m\u001b[0m\u001b[1;33m\u001b[0m\u001b[0m\n\u001b[1;32m----> 7\u001b[1;33m             \u001b[0mnew_state\u001b[0m\u001b[1;33m,\u001b[0m\u001b[0mreward\u001b[0m\u001b[1;33m,\u001b[0m\u001b[0mflag\u001b[0m \u001b[1;33m=\u001b[0m \u001b[0menv\u001b[0m\u001b[1;33m.\u001b[0m\u001b[0mstep\u001b[0m\u001b[1;33m(\u001b[0m\u001b[0mpolicy\u001b[0m\u001b[1;33m[\u001b[0m\u001b[0menv\u001b[0m\u001b[1;33m.\u001b[0m\u001b[0mgetState\u001b[0m\u001b[1;33m(\u001b[0m\u001b[1;33m)\u001b[0m\u001b[1;33m]\u001b[0m\u001b[1;33m)\u001b[0m\u001b[1;33m\u001b[0m\u001b[1;33m\u001b[0m\u001b[0m\n\u001b[0m\u001b[0;32m      8\u001b[0m             value_matrix[state[0],state[1]] += alpha*(reward+gamma*\n\u001b[0;32m      9\u001b[0m                                                       \u001b[0mvalue_matrix\u001b[0m\u001b[1;33m[\u001b[0m\u001b[0menv\u001b[0m\u001b[1;33m.\u001b[0m\u001b[0mcurrent_position\u001b[0m\u001b[1;33m[\u001b[0m\u001b[1;36m0\u001b[0m\u001b[1;33m]\u001b[0m\u001b[1;33m,\u001b[0m\u001b[0menv\u001b[0m\u001b[1;33m.\u001b[0m\u001b[0mcurrent_position\u001b[0m\u001b[1;33m[\u001b[0m\u001b[1;36m1\u001b[0m\u001b[1;33m]\u001b[0m\u001b[1;33m]\u001b[0m\u001b[1;33m-\u001b[0m\u001b[1;33m\u001b[0m\u001b[1;33m\u001b[0m\u001b[0m\n",
      "\u001b[1;31mIndexError\u001b[0m: only integers, slices (`:`), ellipsis (`...`), numpy.newaxis (`None`) and integer or boolean arrays are valid indices"
     ]
    }
   ],
   "source": [
    "val_mat = vEstimation(env,policy,5000,200,0.9,0.9)"
   ]
  },
  {
   "cell_type": "code",
   "execution_count": null,
   "id": "alternate-decision",
   "metadata": {},
   "outputs": [],
   "source": []
  }
 ],
 "metadata": {
  "kernelspec": {
   "display_name": "Python 3",
   "language": "python",
   "name": "python3"
  },
  "language_info": {
   "codemirror_mode": {
    "name": "ipython",
    "version": 3
   },
   "file_extension": ".py",
   "mimetype": "text/x-python",
   "name": "python",
   "nbconvert_exporter": "python",
   "pygments_lexer": "ipython3",
   "version": "3.7.3"
  }
 },
 "nbformat": 4,
 "nbformat_minor": 5
}
