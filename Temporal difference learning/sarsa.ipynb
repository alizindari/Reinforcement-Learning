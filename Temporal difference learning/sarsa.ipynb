{
 "cells": [
  {
   "cell_type": "code",
   "execution_count": 1,
   "id": "continent-funds",
   "metadata": {},
   "outputs": [],
   "source": [
    "import sys\n",
    "import gym\n",
    "import numpy as np\n",
    "from collections import defaultdict\n",
    "import pdb\n",
    "import matplotlib.pyplot as plt\n",
    "from Environment import *"
   ]
  },
  {
   "cell_type": "code",
   "execution_count": 9,
   "id": "seven-weekend",
   "metadata": {},
   "outputs": [],
   "source": [
    "Map  = np.array([['s','f','f','f','f','f','f'],\n",
    "                 ['f','f','f','f','f','f','f'],\n",
    "                 ['f','f','f','f','f','f','f'],\n",
    "                 ['f','f','f','f','f','f','f'],\n",
    "                 ['f','f','f','f','f','f','g'],\n",
    "                 ['f','f','f','f','f','f','f'],\n",
    "                 ['f','f','f','f','f','f','f']])\n",
    "\n",
    "env = Environment(Map,False)"
   ]
  },
  {
   "cell_type": "code",
   "execution_count": 10,
   "id": "inner-saturn",
   "metadata": {},
   "outputs": [],
   "source": [
    "Q_values = defaultdict(lambda: np.random.randint(0,4,4).astype(np.float32))"
   ]
  },
  {
   "cell_type": "code",
   "execution_count": 11,
   "id": "christian-democracy",
   "metadata": {},
   "outputs": [],
   "source": [
    "action_to_num = {\n",
    "    'u':0,\n",
    "    'd':1,\n",
    "    'r':2,\n",
    "    'l':3\n",
    "}\n",
    "\n",
    "num_to_action = {\n",
    "    '0':'u',\n",
    "    '1':'d',\n",
    "    '2':'r',\n",
    "    '3':'l'\n",
    "}"
   ]
  },
  {
   "cell_type": "code",
   "execution_count": 12,
   "id": "later-immigration",
   "metadata": {},
   "outputs": [],
   "source": [
    "def sarsa(env,Q_values,num_iter,num_episodes,alpha, gamma=0.9):\n",
    "    \n",
    "    for it in range(num_iter):\n",
    "        state = env.reset()\n",
    "        action = num_to_action[str(np.argmax(Q_values[state]))]\n",
    "        for eps in range(num_episodes):\n",
    "            if np.random.rand() < 0.85:\n",
    "                new_action = num_to_action[str(np.argmax(Q_values[state]))]\n",
    "                new_state,reward,flag = env.step(action)\n",
    "            else:\n",
    "                new_action = num_to_action[str(np.random.randint(0,4))]\n",
    "                new_state,reward,flag = env.step(action)\n",
    "                \n",
    "            Q_values[(state[0],state[1])][action_to_num[action]] += alpha*(reward+gamma*Q_values[(env.current_position[0],env.current_position[1])][action_to_num[new_action]]-Q_values[(state[0],state[1])][action_to_num[action]])\n",
    "            state = new_state\n",
    "            action = new_action\n",
    "            if env.getState() == 'g':\n",
    "                break\n",
    "            \n",
    "            \n",
    "    return Q_values"
   ]
  },
  {
   "cell_type": "code",
   "execution_count": 28,
   "id": "political-carter",
   "metadata": {},
   "outputs": [],
   "source": [
    "Q_star = sarsa(env,Q_values,50000,60,0.9,0.9)"
   ]
  },
  {
   "cell_type": "code",
   "execution_count": 29,
   "id": "violent-canyon",
   "metadata": {},
   "outputs": [],
   "source": [
    "def QvalueToPolicy(Q,Map):\n",
    "    policy = np.empty(Map.shape,dtype=object)\n",
    "    \n",
    "    for i in range(Map.shape[0]):\n",
    "        for j in range(Map.shape[1]):\n",
    "            policy[i,j] = num_to_action[str(np.argmax(Q[(i,j)]))]\n",
    "            \n",
    "    return policy"
   ]
  },
  {
   "cell_type": "code",
   "execution_count": 30,
   "id": "difficult-shuttle",
   "metadata": {},
   "outputs": [
    {
     "data": {
      "text/plain": [
       "array([['r', 'r', 'r', 'd', 'd', 'd', 'd'],\n",
       "       ['l', 'u', 'd', 'r', 'r', 'd', 'd'],\n",
       "       ['l', 'r', 'r', 'r', 'u', 'd', 'd'],\n",
       "       ['d', 'd', 'r', 'l', 'd', 'd', 'r'],\n",
       "       ['r', 'r', 'r', 'r', 'r', 'r', 'd'],\n",
       "       ['u', 'u', 'u', 'r', 'r', 'u', 'u'],\n",
       "       ['u', 'd', 'r', 'r', 'r', 'u', 'r']], dtype=object)"
      ]
     },
     "execution_count": 30,
     "metadata": {},
     "output_type": "execute_result"
    }
   ],
   "source": [
    "policy = QvalueToPolicy(Q_star,Map)\n",
    "policy"
   ]
  },
  {
   "cell_type": "code",
   "execution_count": null,
   "id": "under-league",
   "metadata": {},
   "outputs": [],
   "source": []
  }
 ],
 "metadata": {
  "kernelspec": {
   "display_name": "Python 3",
   "language": "python",
   "name": "python3"
  },
  "language_info": {
   "codemirror_mode": {
    "name": "ipython",
    "version": 3
   },
   "file_extension": ".py",
   "mimetype": "text/x-python",
   "name": "python",
   "nbconvert_exporter": "python",
   "pygments_lexer": "ipython3",
   "version": "3.7.3"
  }
 },
 "nbformat": 4,
 "nbformat_minor": 5
}
